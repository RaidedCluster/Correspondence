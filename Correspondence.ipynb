{
  "nbformat": 4,
  "nbformat_minor": 0,
  "metadata": {
    "colab": {
      "provenance": []
    },
    "kernelspec": {
      "name": "python3",
      "display_name": "Python 3"
    },
    "language_info": {
      "name": "python"
    }
  },
  "cells": [
    {
      "cell_type": "code",
      "source": [
        "!pip install -q -U google-generativeai"
      ],
      "metadata": {
        "id": "LNMGQwfqh4S1"
      },
      "execution_count": null,
      "outputs": []
    },
    {
      "cell_type": "code",
      "source": [
        "import pathlib\n",
        "import textwrap\n",
        "\n",
        "import google.generativeai as genai\n",
        "\n",
        "# Used to securely store your API key\n",
        "from google.colab import userdata\n",
        "\n",
        "from IPython.display import display\n",
        "from IPython.display import Markdown\n",
        "\n",
        "\n",
        "def to_markdown(text):\n",
        "  text = text.replace('•', '  *')\n",
        "  return Markdown(textwrap.indent(text, '> ', predicate=lambda _: True))"
      ],
      "metadata": {
        "id": "sMfrnXn9h5C4"
      },
      "execution_count": null,
      "outputs": []
    },
    {
      "cell_type": "code",
      "source": [
        "# Or use `os.getenv('GOOGLE_API_KEY')` to fetch an environment variable. Gemini stuff.\n",
        "GOOGLE_API_KEY=userdata.get('GOOGLE_API_KEY')\n",
        "\n",
        "genai.configure(api_key=GOOGLE_API_KEY)"
      ],
      "metadata": {
        "id": "6x4O2TjPh80e"
      },
      "execution_count": null,
      "outputs": []
    },
    {
      "cell_type": "code",
      "source": [
        "model = genai.GenerativeModel('gemini-pro')"
      ],
      "metadata": {
        "id": "V4-7G15NiCFU"
      },
      "execution_count": null,
      "outputs": []
    },
    {
      "cell_type": "code",
      "execution_count": null,
      "metadata": {
        "colab": {
          "base_uri": "https://localhost:8080/"
        },
        "id": "efavuvijfKtL",
        "outputId": "d5c1d107-ec1c-43f7-c8fa-67b0f35c2591"
      },
      "outputs": [
        {
          "output_type": "stream",
          "name": "stderr",
          "text": [
            "[nltk_data] Downloading package wordnet to /root/nltk_data...\n"
          ]
        }
      ],
      "source": [
        "import random\n",
        "import nltk\n",
        "from nltk.corpus import wordnet as wn\n",
        "\n",
        "nltk.download('wordnet')\n",
        "noun_synsets = list(wn.all_synsets('n'))\n",
        "nouns = list(set([noun.name().split('.')[0] for noun in noun_synsets]))"
      ]
    },
    {
      "cell_type": "code",
      "source": [
        "def process_model_response(response):\n",
        "    if \"𝕐𝔼𝕊\" in response.text:\n",
        "        return True\n",
        "    elif \"ℕ𝕆\" in response.text:\n",
        "        return False\n",
        "    else:\n",
        "        print(\"The response is unclear. Please try again.\")\n",
        "        return None"
      ],
      "metadata": {
        "id": "n1YJZetz9Cai"
      },
      "execution_count": null,
      "outputs": []
    },
    {
      "cell_type": "code",
      "source": [
        "def check_word_relation(word1, word2):\n",
        "    response = model.generate_content(f\"Is {word1} related to {word2} in any subtle, related or obvious manner? If they are related in ANY sort of way then you should say 𝕐𝔼𝕊. Please EXPLAIN your reasoning. If it is related please respond with 𝕐𝔼𝕊, if not ℕ𝕆. Please stick to the blackboard board Unicode characters 𝕐𝔼𝕊/ℕ𝕆 response or else it will not be registered. YOU MUST ALSO EXPLAIN HOW THEY ARE RELATED. For example: Cat is related to fur because cat's have fur so 𝕐𝔼𝕊. YOU MUST USE BLACKBOARD BOLD. YOU SHOULD SAY 𝕐𝔼𝕊 instead of YES.\")\n",
        "\n",
        "    # Display the model's response\n",
        "    display(to_markdown(response.text))\n",
        "\n",
        "    return process_model_response(response)\n"
      ],
      "metadata": {
        "id": "6zceBb14HLM8"
      },
      "execution_count": null,
      "outputs": []
    },
    {
      "cell_type": "code",
      "source": [
        "#Sometimes NLTK words are absolutely confusing.\n",
        "nltk.download('omw-1.4')\n",
        "def get_word_definition(word):\n",
        "    synsets = wn.synsets(word)\n",
        "    if synsets:\n",
        "        return synsets[0].definition()\n",
        "    else:\n",
        "        return \"No definition found.\""
      ],
      "metadata": {
        "colab": {
          "base_uri": "https://localhost:8080/"
        },
        "id": "SIKUFe4tKA3O",
        "outputId": "8c4d3db6-bcf7-4064-fff6-ac4027d6cc6f"
      },
      "execution_count": null,
      "outputs": [
        {
          "output_type": "stream",
          "name": "stderr",
          "text": [
            "[nltk_data] Downloading package omw-1.4 to /root/nltk_data...\n"
          ]
        }
      ]
    },
    {
      "cell_type": "code",
      "source": [
        "# Randomly select two nouns\n",
        "random_nouns = random.sample(nouns, 2)\n",
        "\n",
        "first_word = random_nouns[0]\n",
        "second_word = random_nouns[1]\n",
        "\n",
        "first_word_def = get_word_definition(first_word)\n",
        "second_word_def = get_word_definition(second_word)\n",
        "\n",
        "print(f\"Your words to connect are: {first_word} and {second_word}\")\n",
        "print(f\"Definition of '{first_word}': {first_word_def}\")\n",
        "print(f\"Definition of '{second_word}': {second_word_def}\")\n",
        "\n",
        "previous_word = first_word\n",
        "while True:\n",
        "    user_input = input(f\"Enter a word related to {previous_word}: \")\n",
        "\n",
        "    # Check relation with the previous word\n",
        "    is_related_to_previous = check_word_relation(user_input, previous_word)\n",
        "\n",
        "    if is_related_to_previous is None:\n",
        "        continue  # Unclear response, ask for input again\n",
        "    elif not is_related_to_previous:\n",
        "        print(f\"Sorry, '{user_input}' is not related to '{previous_word}'. Try again.\")\n",
        "        continue\n",
        "\n",
        "    # If related to previous word, now check relation with the second word\n",
        "    is_related_to_second = check_word_relation(user_input, second_word)\n",
        "\n",
        "    if is_related_to_second:\n",
        "        print(f\"Congratulations! You have connected '{first_word}' to '{second_word}' through '{user_input}'\")\n",
        "        break\n",
        "    else:\n",
        "        print(f\"'{user_input}' is related to '{previous_word}' but not to '{second_word}'. Keep going.\")\n",
        "        previous_word = user_input"
      ],
      "metadata": {
        "colab": {
          "base_uri": "https://localhost:8080/",
          "height": 314
        },
        "id": "og3disEBEdBe",
        "outputId": "b7334c28-62aa-4f9d-eb83-f56026d38446"
      },
      "execution_count": 87,
      "outputs": [
        {
          "name": "stdout",
          "output_type": "stream",
          "text": [
            "Your words to connect are: testament and fear\n",
            "Definition of 'testament': a profession of belief\n",
            "Definition of 'fear': an emotion experienced in anticipation of some specific pain or danger (usually accompanied by a desire to flee or fight)\n",
            "Enter a word related to testament: God-fearing\n"
          ]
        },
        {
          "output_type": "display_data",
          "data": {
            "text/plain": [
              "<IPython.core.display.Markdown object>"
            ],
            "text/markdown": "> **𝕐𝔼𝕊.**\n> \n> God-fearing is related to testament in the sense that both are associated with religious belief and practice. A testament is a formal declaration of one's beliefs and intentions, often made in a religious context. God-fearing individuals are those who strive to live in accordance with the teachings and principles of their religion. In many religions, testaments are used to express one's faith and commitment to God. Additionally, both testaments and God-fearing behavior are often associated with moral and ethical obligations, such as being truthful, just, and compassionate."
          },
          "metadata": {}
        },
        {
          "output_type": "display_data",
          "data": {
            "text/plain": [
              "<IPython.core.display.Markdown object>"
            ],
            "text/markdown": "> **𝕐𝔼𝕊.**\n> \n> God-fearing is related to fear in the sense that it is a reverence for God that is often accompanied by a sense of awe and respect. This awe and respect can be seen as a form of fear, in the sense that it is a powerful emotion that can elicit feelings of submission and obedience. Additionally, the fear of God can be seen as a motivating factor for righteous behavior, as it encourages individuals to obey God's commands and avoid sin."
          },
          "metadata": {}
        },
        {
          "output_type": "stream",
          "name": "stdout",
          "text": [
            "Congratulations! You have connected 'testament' to 'fear' through 'God-fearing'\n"
          ]
        }
      ]
    }
  ]
}